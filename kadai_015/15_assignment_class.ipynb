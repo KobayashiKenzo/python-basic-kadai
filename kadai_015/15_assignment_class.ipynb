{
  "nbformat": 4,
  "nbformat_minor": 0,
  "metadata": {
    "colab": {
      "provenance": []
    },
    "kernelspec": {
      "name": "python3",
      "display_name": "Python 3"
    },
    "language_info": {
      "name": "python"
    }
  },
  "cells": [
    {
      "cell_type": "code",
      "execution_count": 11,
      "metadata": {
        "colab": {
          "base_uri": "https://localhost:8080/"
        },
        "id": "Bq3b9qw-ryu7",
        "outputId": "d4c44230-eef5-4969-ebdf-392ca293b98c"
      },
      "outputs": [
        {
          "output_type": "stream",
          "name": "stdout",
          "text": [
            "侍太郎 36\n"
          ]
        }
      ],
      "source": [
        "class Human:\n",
        "    def __init__(self, name, age):\n",
        "\n",
        "      self.name = name\n",
        "      self.age = age\n",
        "\n",
        "    def printinfo(self):\n",
        "      print(self.name, self.age)\n",
        "\n",
        "\n",
        "human = Human(\"侍太郎\", 36)\n",
        "human.printinfo()\n"
      ]
    }
  ]
}