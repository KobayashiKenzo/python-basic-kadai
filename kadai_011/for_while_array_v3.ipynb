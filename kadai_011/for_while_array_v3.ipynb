{
  "nbformat": 4,
  "nbformat_minor": 0,
  "metadata": {
    "colab": {
      "provenance": []
    },
    "kernelspec": {
      "name": "python3",
      "display_name": "Python 3"
    },
    "language_info": {
      "name": "python"
    }
  },
  "cells": [
    {
      "cell_type": "code",
      "execution_count": 8,
      "metadata": {
        "colab": {
          "base_uri": "https://localhost:8080/"
        },
        "id": "jr99WWp9EV3q",
        "outputId": "e344b391-6dda-4900-e421-dc4521cf6bca"
      },
      "outputs": [
        {
          "output_type": "stream",
          "name": "stdout",
          "text": [
            "水\n",
            "金\n",
            "地\n",
            "火\n",
            "木\n",
            "土\n",
            "天\n",
            "海\n",
            "冥\n",
            "水\n",
            "金\n",
            "地\n",
            "火\n",
            "木\n",
            "土\n",
            "天\n",
            "海\n",
            "冥\n"
          ]
        }
      ],
      "source": [
        "array = [\"水\",\"金\",\"地\",\"火\",\"木\",\"土\",\"天\",\"海\",\"冥\"]\n",
        "\n",
        "\n",
        "for day in range(1):\n",
        "  for date in array:\n",
        "    print(date)\n",
        "\n",
        "i = 0\n",
        "while i < 1:\n",
        " print(array[0])\n",
        " print(array[1])\n",
        " print(array[2])\n",
        " print(array[3])\n",
        " print(array[4])\n",
        " print(array[5])\n",
        " print(array[6])\n",
        " print(array[7])\n",
        " print(array[8])\n",
        "\n",
        " i = i + 1"
      ]
    }
  ]
}