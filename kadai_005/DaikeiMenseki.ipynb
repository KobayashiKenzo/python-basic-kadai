{
  "nbformat": 4,
  "nbformat_minor": 0,
  "metadata": {
    "colab": {
      "provenance": []
    },
    "kernelspec": {
      "name": "python3",
      "display_name": "Python 3"
    },
    "language_info": {
      "name": "python"
    }
  },
  "cells": [
    {
      "cell_type": "code",
      "source": [
        "johen = 10\n",
        "kahen = 20\n",
        "takasa = 5\n",
        "ans = (johen + kahen) * takasa / 2\n",
        "print(f\"台形の面積は{ans}cm²です\")"
      ],
      "metadata": {
        "colab": {
          "base_uri": "https://localhost:8080/"
        },
        "id": "ddPhZEpWSfRt",
        "outputId": "a79eaf14-54ff-490c-a84f-298d68c5828b"
      },
      "execution_count": 1,
      "outputs": [
        {
          "output_type": "stream",
          "name": "stdout",
          "text": [
            "台形の面積は75.0cm²です\n"
          ]
        }
      ]
    },
    {
      "cell_type": "code",
      "source": [],
      "metadata": {
        "id": "VhxK61yCf4vO"
      },
      "execution_count": null,
      "outputs": []
    }
  ]
}