{
  "nbformat": 4,
  "nbformat_minor": 0,
  "metadata": {
    "colab": {
      "provenance": []
    },
    "kernelspec": {
      "name": "python3",
      "display_name": "Python 3"
    },
    "language_info": {
      "name": "python"
    }
  },
  "cells": [
    {
      "cell_type": "markdown",
      "source": [
        "**課題の内容**\n",
        "名前(name)と年齢(age)の属性を持つHumanクラスを作成してください。\n",
        "\n",
        "Humanクラスには、以下の条件で標準出力(print)するcheck_adultメソッドを追加してください。\n",
        "\n",
        "ageが20以上の場合に大人であること\n",
        "そうでない場合に大人でないこと\n",
        "Humanクラスのインスタンスを複数生成してリストに追加し、リストの要素数分だけcheck_adultメソッドを呼び出してください。\n",
        "\n",
        "**合格基準**\n",
        "本課題の目標は、課題を通して以下の項目が身についているかどうか確認することです。\n",
        "\n",
        "本教材で学習したテクニックを組み合わせてコードを記述すること。\n",
        "そのため、以下の項目がすべて満たされていれば合格です。\n",
        "\n",
        "番号\t合格基準\n",
        "1\t本教材で学習した「リスト・ディクショナリ」「条件分岐」「繰り返し処理」「関数」「変数のスコープ」「クラス」を用いて、「課題の内容」の仕様通りのプログラムが記述されている\n"
      ],
      "metadata": {
        "id": "s5R8XwYO1lDR"
      }
    },
    {
      "cell_type": "code",
      "source": [
        "class Human:\n",
        "  def __init__(self, name, age):\n",
        "    self.name = name\n",
        "    self.age = age\n",
        "\n",
        "  def check_adult(self):\n",
        "    if self.age >= 20:\n",
        "      print(f\"{self.name}は、成人です。\")\n",
        "\n",
        "    else:\n",
        "      print(f\"{self.name}は、成人ではありません。\")\n",
        "\n",
        "\n",
        "samuraitaro = Human(\"侍太郎\", 36)\n",
        "samuraihanako = Human(\"侍花子\", 34)\n",
        "samuraiichiro = Human(\"侍一郎\", 18)\n",
        "samuraiyuriko = Human(\"侍百合子\", 71)\n",
        "\n",
        "human_list = [samuraitaro, samuraihanako, samuraiichiro, samuraiyuriko]\n",
        "\n",
        "i = 0\n",
        "\n",
        "while i < 4:\n",
        "  human_list[i].check_adult()\n",
        "\n",
        "  i = i + 1"
      ],
      "metadata": {
        "colab": {
          "base_uri": "https://localhost:8080/"
        },
        "id": "7sI2E2Npzjjy",
        "outputId": "dbf2e2cd-67a8-43aa-9c98-68566fb3f9ef"
      },
      "execution_count": 13,
      "outputs": [
        {
          "output_type": "stream",
          "name": "stdout",
          "text": [
            "侍太郎は、成人です。\n",
            "侍花子は、成人です。\n",
            "侍一郎は、成人ではありません。\n",
            "侍百合子は、成人です。\n"
          ]
        }
      ]
    },
    {
      "cell_type": "markdown",
      "source": [],
      "metadata": {
        "id": "JLPJJqUDznGT"
      }
    }
  ]
}