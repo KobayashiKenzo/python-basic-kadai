{
  "nbformat": 4,
  "nbformat_minor": 0,
  "metadata": {
    "colab": {
      "provenance": []
    },
    "kernelspec": {
      "name": "python3",
      "display_name": "Python 3"
    },
    "language_info": {
      "name": "python"
    }
  },
  "cells": [
    {
      "cell_type": "code",
      "execution_count": 13,
      "metadata": {
        "colab": {
          "base_uri": "https://localhost:8080/"
        },
        "id": "NxqM9wDLmHbq",
        "outputId": "8b18ef6f-2b62-40f9-d612-cc0aaeb01b0a"
      },
      "outputs": [
        {
          "output_type": "stream",
          "name": "stdout",
          "text": [
            "木曜日は晴れです\n",
            "晴れ\n"
          ]
        }
      ],
      "source": [
        "array = [\"月曜日は晴れです\", \"火曜日は雨です\", \"水曜日は晴れです\", \"木曜日は晴れです\", \"金曜日は曇りです\", \"土曜日は曇りのち雨です\", \"日曜日は雷雨です\"]\n",
        "print(array[3])\n",
        "\n",
        "dictionary = {\"mon\" : \"晴れ\",\"tue\" : \"雨\",\"wed\" : \"晴れ\",\"thu\" : \"晴れ\",\"fri\" : \"曇り\",\"sat\" : \"曇りのち雨\",\"sun\" : \"雷雨\"}\n",
        "print(dictionary[\"wed\"])"
      ]
    },
    {
      "cell_type": "code",
      "source": [],
      "metadata": {
        "id": "ubnL2oOWpuYL"
      },
      "execution_count": null,
      "outputs": []
    }
  ]
}