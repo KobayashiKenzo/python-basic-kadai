{
  "nbformat": 4,
  "nbformat_minor": 0,
  "metadata": {
    "colab": {
      "provenance": []
    },
    "kernelspec": {
      "name": "python3",
      "display_name": "Python 3"
    },
    "language_info": {
      "name": "python"
    }
  },
  "cells": [
    {
      "cell_type": "code",
      "execution_count": 3,
      "metadata": {
        "colab": {
          "base_uri": "https://localhost:8080/"
        },
        "id": "xxLr9m1jyJk0",
        "outputId": "450e5369-02c3-41c1-e475-1f1546c5e8f4"
      },
      "outputs": [
        {
          "output_type": "stream",
          "name": "stdout",
          "text": [
            "おはようございます！\n",
            "昨日は良く寝られましたか？\n",
            "今日も一日がんばりましょう！\n",
            "こんばんは！\n",
            "今日も一日お疲れ様でした！\n"
          ]
        }
      ],
      "source": [
        "def Say_good_morning():\n",
        "  print(\"おはようございます！\")\n",
        "  print(\"昨日は良く寝られましたか？\")\n",
        "  print(\"今日も一日がんばりましょう！\")\n",
        "\n",
        "def Say_good_evening():\n",
        "  print(\"こんばんは！\")\n",
        "  print(\"今日も一日お疲れ様でした！\")\n",
        "\n",
        "\n",
        "Say_good_morning()\n",
        "\n",
        "Say_good_evening()\n"
      ]
    },
    {
      "cell_type": "code",
      "source": [
        "def add_two_arguments(price, shipping_fee):\n",
        "  total = price + shipping_fee\n",
        "\n",
        "  print(f\"{total}円\")\n",
        "\n",
        "add_two_arguments(1200, 500)"
      ],
      "metadata": {
        "colab": {
          "base_uri": "https://localhost:8080/"
        },
        "id": "Hq6Ubmrf6pPj",
        "outputId": "6c1c173b-466a-4079-ff29-2495f2b38564"
      },
      "execution_count": 5,
      "outputs": [
        {
          "output_type": "stream",
          "name": "stdout",
          "text": [
            "1700円\n"
          ]
        }
      ]
    },
    {
      "cell_type": "code",
      "source": [
        "purchased = True\n",
        "\n",
        "def is_purchased():\n",
        "  if (purchased):\n",
        "    return True\n",
        "\n",
        "  else:\n",
        "    return  False\n",
        "\n",
        "if (is_purchased()):\n",
        "  print(\"商品は購入済みです。\")"
      ],
      "metadata": {
        "colab": {
          "base_uri": "https://localhost:8080/"
        },
        "id": "f14gt6JO-EhX",
        "outputId": "facdb653-0e4f-41ee-fab9-d80a9e2c35e3"
      },
      "execution_count": 7,
      "outputs": [
        {
          "output_type": "stream",
          "name": "stdout",
          "text": [
            "商品は購入済みです。\n"
          ]
        }
      ]
    },
    {
      "cell_type": "code",
      "source": [
        "def inc_tax(price, tax_rate):\n",
        "  tax = tax_rate * 0.01\n",
        "  shohizei = price * tax\n",
        "  total = price + shohizei\n",
        "\n",
        "  return total\n",
        "\n",
        "item_price = 100\n",
        "shohizeiritsu = 10\n",
        "\n",
        "purchased_price = inc_tax(item_price, shohizeiritsu)\n",
        "\n",
        "print(f\"購入金額の合計は{purchased_price}円です\")\n",
        "\n",
        "\n"
      ],
      "metadata": {
        "colab": {
          "base_uri": "https://localhost:8080/"
        },
        "id": "DCN5BkAC_ccr",
        "outputId": "4491c2f3-59db-4294-91cd-7e995264961d"
      },
      "execution_count": 6,
      "outputs": [
        {
          "output_type": "stream",
          "name": "stdout",
          "text": [
            "購入金額の合計は110.0円です\n"
          ]
        }
      ]
    }
  ]
}